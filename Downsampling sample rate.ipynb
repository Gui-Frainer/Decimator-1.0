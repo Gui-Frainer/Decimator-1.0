{
 "cells": [
  {
   "cell_type": "code",
   "execution_count": 12,
   "id": "c927b19c",
   "metadata": {},
   "outputs": [
    {
     "name": "stderr",
     "output_type": "stream",
     "text": [
      "C:\\Users\\User\\AppData\\Local\\Temp\\ipykernel_5416\\1753114517.py:11: FutureWarning: Pass orig_sr=96000, target_sr=48000 as keyword args. From version 0.10 passing these as positional arguments will result in an error\n",
      "  y_resampled = librosa.resample(y, sr, target_sample_rate)\n"
     ]
    },
    {
     "name": "stdout",
     "output_type": "stream",
     "text": [
      "Downsampling complete. Downsampled files saved in the designated folder.\n"
     ]
    }
   ],
   "source": [
    "import os\n",
    "import librosa\n",
    "import soundfile as sf\n",
    "\n",
    "folder_path = 'D:/your_folder/'\n",
    "target_sample_rate_kHz = 48\n",
    "\n",
    "def downsample(input_path, output_folder, target_sample_rate_kHz):\n",
    "    y, sr = librosa.load(input_path, sr=None)\n",
    "    target_sample_rate = int(target_sample_rate_kHz) * 1000\n",
    "    y_resampled = librosa.resample(y, orig_sr=sr, target_sr=target_sample_rate)\n",
    "\n",
    "    filename = os.path.splitext(os.path.basename(input_path))[0]\n",
    "    output_filename = f\"{filename}_{target_sample_rate_kHz}kHz.wav\"\n",
    "    output_path = os.path.join(output_folder, output_filename)\n",
    "    sf.write(output_path, y_resampled, target_sample_rate)\n",
    "    \n",
    "if __name__ == \"__main__\":   \n",
    "    wav_files = [f for f in os.listdir(folder_path) if f.endswith(\".WAV\")]\n",
    "    output_folder = folder_path + 'Downsampled/'\n",
    "    os.makedirs(output_folder, exist_ok=True)\n",
    "\n",
    "    for wav_file in wav_files:\n",
    "        wav_path = os.path.join(folder_path, wav_file)\n",
    "        downsample(wav_path, output_folder, target_sample_rate_kHz)\n",
    "\n",
    "    print(\"Downsampling complete. Downsampled files saved in the designated folder.\")"
   ]
  },
  {
   "cell_type": "code",
   "execution_count": null,
   "id": "9fd7adb2",
   "metadata": {},
   "outputs": [],
   "source": []
  }
 ],
 "metadata": {
  "kernelspec": {
   "display_name": "Python 3 (ipykernel)",
   "language": "python",
   "name": "python3"
  },
  "language_info": {
   "codemirror_mode": {
    "name": "ipython",
    "version": 3
   },
   "file_extension": ".py",
   "mimetype": "text/x-python",
   "name": "python",
   "nbconvert_exporter": "python",
   "pygments_lexer": "ipython3",
   "version": "3.9.12"
  }
 },
 "nbformat": 4,
 "nbformat_minor": 5
}
