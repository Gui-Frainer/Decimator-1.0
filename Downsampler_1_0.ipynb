{
 "cells": [
  {
   "cell_type": "code",
   "execution_count": 19,
   "id": "af21a053",
   "metadata": {},
   "outputs": [
    {
     "name": "stdout",
     "output_type": "stream",
     "text": [
      "Saved to: D:/Postdoc/Wild Sounds/Wild dogs\\Downsampled\\sel.01.ch01-02.221020.083308.32._2kHz.wav\n",
      "Saved to: D:/Postdoc/Wild Sounds/Wild dogs\\Downsampled\\short_2kHz.wav\n"
     ]
    }
   ],
   "source": [
    "import os\n",
    "import tkinter as tk\n",
    "from tkinter import filedialog, messagebox\n",
    "import librosa\n",
    "import soundfile as sf\n",
    "\n",
    "def browse_folder():\n",
    "    folder_path = filedialog.askdirectory()\n",
    "    folder_path_entry.delete(0, tk.END)\n",
    "    folder_path_entry.insert(0, folder_path)\n",
    "\n",
    "def show_info(message):\n",
    "    messagebox.showinfo(\"Downsampler 1.0 - Information\", message)\n",
    "\n",
    "def downsample():\n",
    "    folder_path = folder_path_entry.get()\n",
    "    target_sample_rate_kHz = int(sample_rate_entry.get())\n",
    "    target_sample_rate = int(target_sample_rate_kHz) * 1000\n",
    "    # Filter files with both '.wav' and '.WAV' extensions\n",
    "    wav_files = [f for f in os.listdir(folder_path) if f.endswith(\".wav\") or f.endswith(\".WAV\")]\n",
    "    output_folder = os.path.join(folder_path, 'Downsampled')\n",
    "    os.makedirs(output_folder, exist_ok=True)\n",
    "    \n",
    "    show_info(\"Downsampling audio files. This might take a while...\")\n",
    "\n",
    "    for wav_file in wav_files:\n",
    "        try:\n",
    "            wav_path = os.path.join(folder_path, wav_file)\n",
    "            y, sr = librosa.load(wav_path, sr=target_sample_rate)\n",
    "            filename = os.path.splitext(os.path.basename(wav_file))[0]\n",
    "            output_filename = f\"{filename}_{target_sample_rate_kHz}kHz.wav\"\n",
    "            output_path = os.path.join(output_folder, output_filename)\n",
    "            sf.write(output_path, y, target_sample_rate)\n",
    "            print(f\"Saved to: {output_path}\")\n",
    "        except Exception as e:\n",
    "            print(f\"Error saving file: {e}\")\n",
    "\n",
    "    show_info(\"Downsampling complete. Downsampled files saved in a separate folder.\")\n",
    "\n",
    "app = tk.Tk()\n",
    "app.title(\"Downsampler 1.0\")\n",
    "app.geometry(\"400x280\")\n",
    "\n",
    "folder_label = tk.Label(app, text=\"Select a folder with .wav files:\")\n",
    "folder_label.pack(pady=10)\n",
    "\n",
    "folder_path_entry = tk.Entry(app, width=40)\n",
    "folder_path_entry.pack()\n",
    "\n",
    "browse_button = tk.Button(app, text=\"Browse\", command=browse_folder)\n",
    "browse_button.pack()\n",
    "\n",
    "sample_rate_label = tk.Label(app, text=\"Enter sample rate (in kHz):\")\n",
    "sample_rate_label.pack(pady=10)\n",
    "\n",
    "sample_rate_entry = tk.Entry(app, width=10)\n",
    "sample_rate_entry.pack()\n",
    "\n",
    "downsample_button = tk.Button(app, text=\"Downsample\", command=downsample)\n",
    "downsample_button.pack(pady=10)\n",
    "\n",
    "created_by_label = tk.Label(app, text=\" ©GFrainer2023\")\n",
    "created_by_label.pack(side=\"bottom\", padx=10, pady=10)\n",
    "\n",
    "source_code_label = tk.Label(app, text=\"github.com/Gui-Frainer/Downsampler-1.0\")\n",
    "source_code_label.pack(side=\"bottom\", padx=10, pady=10)\n",
    "\n",
    "app.iconbitmap(\"D:/Postdoc/Downsampler 1_0/logo_D.ico\")\n",
    "\n",
    "app.mainloop()"
   ]
  }
 ],
 "metadata": {
  "kernelspec": {
   "display_name": "Python 3 (ipykernel)",
   "language": "python",
   "name": "python3"
  },
  "language_info": {
   "codemirror_mode": {
    "name": "ipython",
    "version": 3
   },
   "file_extension": ".py",
   "mimetype": "text/x-python",
   "name": "python",
   "nbconvert_exporter": "python",
   "pygments_lexer": "ipython3",
   "version": "3.9.12"
  }
 },
 "nbformat": 4,
 "nbformat_minor": 5
}
